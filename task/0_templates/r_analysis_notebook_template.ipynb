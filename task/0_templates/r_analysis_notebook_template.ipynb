{
 "cells": [
  {
   "cell_type": "markdown",
   "id": "5e8b211f-ba68-4f95-a201-0427560306fc",
   "metadata": {},
   "source": [
    "# R analysis notebook template\n",
    "\n",
    "Created by: `<First and last name>` (`<email address>`)"
   ]
  },
  {
   "cell_type": "markdown",
   "id": "9f8f45a9-4d7a-4c25-a2b1-5607a01040e8",
   "metadata": {},
   "source": [
    "# Overview\n",
    "\n",
    "Provide a general description here of the purpose of the notebook. If this notebook includes one iteration of several for a given analysis type, provide details here regarding how this iteration differs from others (e.g., data source, data transformations, model fitting method, etc.).\n",
    "\n",
    "**Note on notebook naming:** Prepend all notebook filenames with the date stamp `yyyymmdd_`. The notebook title should include the numeric ID for analysis type and iteration. For example, a specific iteration `0021` of a differential gene expression analysis `0005` may have a notebook file `20230131_dge_analysis.ipynb` with the title _DGE analysis `0005` iteration `0021`_. If planning to create several notebooks within the same subdirectory for sequential processing/analysis, append a numeric ordering prefix. For example, `20230131_dge_analysis.ipynb` would become `1_20230131_dge_analysis.ipynb` if it were the first notebook of several within the same subdirectory. \n",
    "\n",
    "**Note on code styling:** Follow the [tidyverse style guide](https://style.tidyverse.org/) for code styling.\n",
    "\n",
    "**Note on results file naming:** For any tables, plots, or serialized objects output from this notebook, use a date stamp suffix on filenames of the format `_yyyymmdd.<file extension>`."
   ]
  },
  {
   "cell_type": "markdown",
   "id": "a02d5198-7227-4a93-b686-0438dbbe35e1",
   "metadata": {},
   "source": [
    "----\n",
    "\n",
    "# Environment setup\n",
    "\n",
    "Docker image: `<image name and tag>` built from `src/docker/<image name>/Dockerfile`."
   ]
  },
  {
   "cell_type": "code",
   "execution_count": null,
   "id": "5f18cd90-f995-4e26-922d-ea5b49166d84",
   "metadata": {},
   "outputs": [],
   "source": [
    "initial_wd <- getwd()\n",
    "initial_wd"
   ]
  },
  {
   "cell_type": "code",
   "execution_count": null,
   "id": "c5ddb307-8329-4ae2-b68a-001276cc6220",
   "metadata": {},
   "outputs": [],
   "source": [
    "setwd(\"/<repo top level dir name>\") #set working dir to the repo top level\n",
    "getwd()"
   ]
  },
  {
   "cell_type": "code",
   "execution_count": null,
   "id": "4fcc4fe3-8a31-4182-a6e7-535af0aba07d",
   "metadata": {
    "scrolled": true
   },
   "outputs": [],
   "source": [
    "# Include here all the packages that are needed for the analysis\n",
    "library_list <- c(\n",
    "  \"\"\n",
    ")\n",
    "for (package in library_list) {\n",
    "  library(package, character.only = T, quietly = T)\n",
    "}"
   ]
  },
  {
   "cell_type": "code",
   "execution_count": null,
   "id": "3aea54ec-f9a5-4b30-98cd-0c58e88f35c6",
   "metadata": {},
   "outputs": [],
   "source": [
    "options(stringsAsFactors = F)\n",
    "options(repr.plot.res = 0.25) #plot resolution can have a big impact on notebook size"
   ]
  },
  {
   "cell_type": "code",
   "execution_count": null,
   "id": "8cf2101a-aa22-415f-a6e4-75a794f2692d",
   "metadata": {},
   "outputs": [],
   "source": [
    "# Set dir paths for results from this analysis. Makes it easier to specify output paths\n",
    "# throughout the notebook\n",
    "results_dir <- \"\"\n",
    "figure_dir <- file.path(results_dir, \"figures\")\n",
    "print(figure_dir)\n",
    "table_dir <- file.path(results_dir, \"tables\")\n",
    "print(table_dir)\n",
    "serialized_dir <- file.path(results_dir, \"serialized\")\n",
    "print(serialized_dir)\n",
    "s3_dir <- \"s3://bucket/path/\" #URI to repo top level dir on S3\n",
    "print(s3_dir)"
   ]
  },
  {
   "cell_type": "code",
   "execution_count": null,
   "id": "3e5245e0-2a0f-4f5a-9cd9-240f8a4c8469",
   "metadata": {},
   "outputs": [],
   "source": [
    "# Include here any reusable functions that may not (yet) warrant being included as a generalized\n",
    "# function in src/r/. Follow roxygen2 syntax for code documentation for functions:\n",
    "# https://roxygen2.r-lib.org/articles/rd.html\n",
    "# A template function is included here for your convenience.\n",
    "\n",
    "#' @title\n",
    "#' Function title\n",
    "#'\n",
    "#' @description\n",
    "#' Brief function description.\n",
    "#'\n",
    "#' @details\n",
    "#' Function details.\n",
    "#'\n",
    "#' @param bar A <variable type>. Description of the function argument.\n",
    "#'\n",
    "#' @returns Description of what the function returns.\n",
    "#'\n",
    "#' @examples\n",
    "#' Put executable R code here that demonstrates how the function works.\n",
    "#' Code must run without error.\n",
    "foo <- function(bar) {\n",
    "  return NULL\n",
    "}"
   ]
  },
  {
   "cell_type": "code",
   "execution_count": null,
   "id": "6d292b6d-d354-4647-a352-3cef3c76f389",
   "metadata": {},
   "outputs": [],
   "source": [
    "# Include here any global variables for easy reference throughout the notebook. Examples include\n",
    "# color palettes, plot specifications, variable thresholds/cutoffs, etc."
   ]
  },
  {
   "cell_type": "markdown",
   "id": "f11fcff2-f0c4-45e9-ae8a-65cf87e67eb8",
   "metadata": {},
   "source": [
    "----\n",
    "\n",
    "# Data loading"
   ]
  },
  {
   "cell_type": "markdown",
   "id": "e19218e2-26fe-41dc-9e4f-b734be5f7de8",
   "metadata": {},
   "source": [
    "## AWS sync data files\n",
    "\n",
    "Calls to AWS sync ensures that local copies of processed data files (i.e., not in `data/raw`) align with the copy in the AWS S3 repository storage directory."
   ]
  },
  {
   "cell_type": "code",
   "execution_count": null,
   "id": "e9a40f68-92af-4afe-a333-be24d3df735c",
   "metadata": {
    "tags": []
   },
   "outputs": [],
   "source": [
    "# Template for building calls to aws s3 sync\n",
    "cmd_prefix <- \"aws s3 sync\"\n",
    "cmd_suffix_list <- list(\n",
    "  c(\n",
    "    file.path(s3_dir, '<S3 subdirectory path>'),\n",
    "    '<local path to store file>', #start from repo top level\n",
    "    '--exclude=\"*\"', #use if syncing a specific file\n",
    "    '--include=\"<wildcard expression>\"' #use if syncing a specific file\n",
    "  )\n",
    ")\n",
    "cat(\"\\nExecute the following from the repo top level in a local terminal with AWS credentials configured:\\n\\n\")\n",
    "dev_null <- lapply(\n",
    "  cmd_suffix_list,\n",
    "  function(cmd_suffix) {\n",
    "    cmd <- paste0(c(cmd_prefix, cmd_suffix), collapse = \" \")\n",
    "    cat(cmd, \"\\n\")\n",
    "    return(NULL)\n",
    "  }\n",
    ")"
   ]
  },
  {
   "cell_type": "markdown",
   "id": "ef8dc9ca-93b4-4682-8932-29ded82509bf",
   "metadata": {},
   "source": [
    "Paste printed output from above cell into the Markdown code block below. Example that syncs a GENCODE SQLite file:\n",
    "\n",
    "```\n",
    "Execute the following from the repo top level in a local terminal with AWS credentials configured:\n",
    "\n",
    "aws s3 sync s3://rti-hiv/scratch/git_repo/gnetii_supplement/data/processed/annotation/gencode/ data/processed/annotation/gencode/ --exclude=\"*\" --include=\"gencode_v34*sqlite\" \n",
    "```"
   ]
  },
  {
   "cell_type": "markdown",
   "id": "2a518525-340f-4dcb-a493-6c6928c69a0b",
   "metadata": {},
   "source": [
    "## Title for data type 1"
   ]
  },
  {
   "cell_type": "code",
   "execution_count": null,
   "id": "5fe1fc9a-a16d-4e39-8c5f-b60d5d02566c",
   "metadata": {},
   "outputs": [],
   "source": [
    "# Data loading code for data files"
   ]
  },
  {
   "cell_type": "markdown",
   "id": "9b27cfa4-0f29-4f17-9ece-57fab473c2f8",
   "metadata": {},
   "source": [
    "## Title for data type 2"
   ]
  },
  {
   "cell_type": "code",
   "execution_count": null,
   "id": "4a9ff05b-2d0c-43f0-80a8-ce70f750d713",
   "metadata": {},
   "outputs": [],
   "source": [
    "# Data loading code for data files"
   ]
  },
  {
   "cell_type": "markdown",
   "id": "ae06ad4b-ebde-4949-bdc3-d71372810528",
   "metadata": {
    "tags": []
   },
   "source": [
    "---\n",
    "\n",
    "# Title for analysis section 1"
   ]
  },
  {
   "cell_type": "markdown",
   "id": "feda0ea4-07df-4eb4-9a35-799e9c1dabca",
   "metadata": {
    "tags": []
   },
   "source": [
    "## Title for analysis section 1 subsection 1"
   ]
  },
  {
   "cell_type": "code",
   "execution_count": null,
   "id": "38f27a1e-64c7-4d5d-ac1c-fd94e1bdde17",
   "metadata": {},
   "outputs": [],
   "source": [
    "# code block"
   ]
  },
  {
   "cell_type": "code",
   "execution_count": null,
   "id": "6235f735-5964-452a-b92c-618217d67bc2",
   "metadata": {},
   "outputs": [],
   "source": [
    "# Template for outputting results\n",
    "outfile <- file.path(results_dir, \"filename_yyyymmdd.extension\")\n",
    "print(outfile)\n",
    "\n",
    "write.table(file = outfile, ...) #for plain text tables\n",
    "\n",
    "saveRDS(file = outfile, ...) #for serialized objects\n",
    "\n",
    "# For support vector graphic as PDF\n",
    "pdf(file = outfile, width = 5, height = 5)\n",
    "# plot calling function here\n",
    "dev.off()\n",
    "IRdisplay::display_pdf(file = outfile, width = 500) # view graphic as cell output\n",
    "\n",
    "# For graphic as PNG\n",
    "png(filename = outfile, width = 5, height = 5, units = \"in\", res = 150)\n",
    "# plot calling function here\n",
    "dev.off()\n",
    "IRdisplay::display_png(file = outfile, width = 500) # view graphic as cell output"
   ]
  },
  {
   "cell_type": "markdown",
   "id": "bc97388c-a23b-468a-a9e5-518b6ab67726",
   "metadata": {
    "tags": []
   },
   "source": [
    "---\n",
    "\n",
    "# Title for analysis section 2"
   ]
  },
  {
   "cell_type": "markdown",
   "id": "70a07a9a-75fa-4651-a13e-53844b0944ab",
   "metadata": {
    "tags": []
   },
   "source": [
    "## Title for analysis section 2 subsection 1"
   ]
  },
  {
   "cell_type": "code",
   "execution_count": null,
   "id": "f4ac20b9-651b-49b9-b2f3-11d73277a60f",
   "metadata": {},
   "outputs": [],
   "source": [
    "# code block"
   ]
  },
  {
   "cell_type": "markdown",
   "id": "e95986ff-1ba2-4e1f-8f01-744312e7b5ba",
   "metadata": {},
   "source": [
    "---\n",
    "\n",
    "# Sync new files to AWS S3\n",
    "\n",
    "Any new data files, serialized results, or tables that were generated as part of this analysis that may be needed for other analyses/reporting should be synced to the GitHub repo directory storage space on AWS S3."
   ]
  },
  {
   "cell_type": "code",
   "execution_count": null,
   "id": "311765fa-87b1-4b7a-9664-4cd1eccbd9c7",
   "metadata": {
    "tags": []
   },
   "outputs": [],
   "source": [
    "cmd_prefix <- \"aws s3 sync\"\n",
    "cmd_suffix_list <- list(\n",
    "  c(\n",
    "    \"<path to local directory for file>\", #path should be relative to repo top level\n",
    "    file.path(s3_dir, '<S3 subdirectory path>'),\n",
    "    '--exclude=\"*\"',\n",
    "    '--include=\"<filename>\"'\n",
    "  )\n",
    ")\n",
    "cat(\"\\nExecute the following from the repo top level in a local terminal with AWS credentials configured:\\n\\n\")\n",
    "dev_null <- lapply(\n",
    "  cmd_suffix_list,\n",
    "  function(cmd_suffix) {\n",
    "    cmd <- paste0(c(cmd_prefix, cmd_suffix), collapse = \" \")\n",
    "    cat(cmd, \"\\n\")\n",
    "    return(NULL)\n",
    "  }\n",
    ")"
   ]
  },
  {
   "cell_type": "markdown",
   "id": "abf086dc-f3d0-462a-bbc1-312466f67b18",
   "metadata": {},
   "source": [
    "Paste printed output from above cell into the Markdown code block below. Example that syncs a local file to S3:\n",
    "\n",
    "```\n",
    "Execute the following from the repo top level in a local terminal with AWS credentials configured:\n",
    "\n",
    "aws s3 sync data/processed/dataset_0001/0001/rna_expression/sequencing/cd4_t_cells/ s3://rti-hiv/scratch/git_repo/gnetii_supplement/data/processed/dataset_0001/0001/rna_expression/sequencing/cd4_t_cells/ --exclude=\"*\" --include=\"txi_dtuscaledtpm_data_20230810.rds\" \n",
    "```"
   ]
  },
  {
   "cell_type": "markdown",
   "id": "2f45b3fc-7465-4943-a252-39ba0aa831bc",
   "metadata": {},
   "source": [
    "---\n",
    "\n",
    "# Session info"
   ]
  },
  {
   "cell_type": "code",
   "execution_count": null,
   "id": "abde34af-71b9-4c7a-bea2-dc0c8f3a9a16",
   "metadata": {
    "tags": []
   },
   "outputs": [],
   "source": [
    "sessionInfo()"
   ]
  },
  {
   "cell_type": "markdown",
   "id": "136b84bd-1e61-4ab1-92b4-903eaae1a5a6",
   "metadata": {},
   "source": [
    "```\n",
    "Paste sessionInfo() output here since code cell output gets cleared on git commit\n",
    "```"
   ]
  }
 ],
 "metadata": {
  "kernelspec": {
   "display_name": "R",
   "language": "R",
   "name": "ir"
  },
  "language_info": {
   "codemirror_mode": "r",
   "file_extension": ".r",
   "mimetype": "text/x-r-source",
   "name": "R",
   "pygments_lexer": "r",
   "version": "4.1.3"
  }
 },
 "nbformat": 4,
 "nbformat_minor": 5
}
